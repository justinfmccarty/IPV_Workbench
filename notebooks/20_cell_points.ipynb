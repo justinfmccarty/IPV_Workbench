{
 "cells": [
  {
   "cell_type": "code",
   "execution_count": 1,
   "metadata": {},
   "outputs": [],
   "source": [
    "import shapely"
   ]
  },
  {
   "cell_type": "code",
   "execution_count": 50,
   "metadata": {},
   "outputs": [
    {
     "ename": "TypeError",
     "evalue": "One of the arguments is of incorrect type. Please provide only Geometry objects.",
     "output_type": "error",
     "traceback": [
      "\u001b[0;31m---------------------------------------------------------------------------\u001b[0m",
      "\u001b[0;31mTypeError\u001b[0m                                 Traceback (most recent call last)",
      "Cell \u001b[0;32mIn[50], line 6\u001b[0m\n\u001b[1;32m      3\u001b[0m \u001b[39m# shapely.voronoi_polygons(cell)\u001b[39;00m\n\u001b[1;32m      5\u001b[0m \u001b[39mfor\u001b[39;00m p \u001b[39min\u001b[39;00m shapely\u001b[39m.\u001b[39mcentroid(cell)\u001b[39m.\u001b[39mcoords:\n\u001b[0;32m----> 6\u001b[0m     \u001b[39mprint\u001b[39m(shapely\u001b[39m.\u001b[39;49mforce_3d(p))\n",
      "File \u001b[0;32m/opt/homebrew/Caskroom/miniforge/base/envs/workbench/lib/python3.10/site-packages/shapely/decorators.py:77\u001b[0m, in \u001b[0;36mmultithreading_enabled.<locals>.wrapped\u001b[0;34m(*args, **kwargs)\u001b[0m\n\u001b[1;32m     75\u001b[0m     \u001b[39mfor\u001b[39;00m arr \u001b[39min\u001b[39;00m array_args:\n\u001b[1;32m     76\u001b[0m         arr\u001b[39m.\u001b[39mflags\u001b[39m.\u001b[39mwriteable \u001b[39m=\u001b[39m \u001b[39mFalse\u001b[39;00m\n\u001b[0;32m---> 77\u001b[0m     \u001b[39mreturn\u001b[39;00m func(\u001b[39m*\u001b[39;49margs, \u001b[39m*\u001b[39;49m\u001b[39m*\u001b[39;49mkwargs)\n\u001b[1;32m     78\u001b[0m \u001b[39mfinally\u001b[39;00m:\n\u001b[1;32m     79\u001b[0m     \u001b[39mfor\u001b[39;00m arr, old_flag \u001b[39min\u001b[39;00m \u001b[39mzip\u001b[39m(array_args, old_flags):\n",
      "File \u001b[0;32m/opt/homebrew/Caskroom/miniforge/base/envs/workbench/lib/python3.10/site-packages/shapely/_geometry.py:886\u001b[0m, in \u001b[0;36mforce_3d\u001b[0;34m(geometry, z, **kwargs)\u001b[0m\n\u001b[1;32m    884\u001b[0m \u001b[39mif\u001b[39;00m np\u001b[39m.\u001b[39misnan(z)\u001b[39m.\u001b[39many():\n\u001b[1;32m    885\u001b[0m     \u001b[39mraise\u001b[39;00m \u001b[39mValueError\u001b[39;00m(\u001b[39m\"\u001b[39m\u001b[39mIt is not allowed to set the Z coordinate to NaN.\u001b[39m\u001b[39m\"\u001b[39m)\n\u001b[0;32m--> 886\u001b[0m \u001b[39mreturn\u001b[39;00m lib\u001b[39m.\u001b[39;49mforce_3d(geometry, z, \u001b[39m*\u001b[39;49m\u001b[39m*\u001b[39;49mkwargs)\n",
      "\u001b[0;31mTypeError\u001b[0m: One of the arguments is of incorrect type. Please provide only Geometry objects."
     ]
    }
   ],
   "source": [
    "coords = ((0., 0., 0.), (0., 0., 10.), (1., 0., 10.), (1., 0., 0.), (0., 0., 0.))\n",
    "cell = shapely.Polygon(coords)\n",
    "# shapely.voronoi_polygons(cell)\n",
    "\n",
    "for p in shapely.centroid(cell,).coords:\n",
    "    "
   ]
  },
  {
   "cell_type": "code",
   "execution_count": 23,
   "metadata": {},
   "outputs": [
    {
     "ename": "TypeError",
     "evalue": "One of the arguments is of incorrect type. Please provide only Geometry objects.",
     "output_type": "error",
     "traceback": [
      "\u001b[0;31m---------------------------------------------------------------------------\u001b[0m",
      "\u001b[0;31mTypeError\u001b[0m                                 Traceback (most recent call last)",
      "Cell \u001b[0;32mIn[23], line 1\u001b[0m\n\u001b[0;32m----> 1\u001b[0m pt2 \u001b[39m=\u001b[39m shapely\u001b[39m.\u001b[39;49mtransform(pt\u001b[39m.\u001b[39;49mx, \u001b[39mlambda\u001b[39;49;00m x: x \u001b[39m+\u001b[39;49m\u001b[39m1\u001b[39;49m, include_z\u001b[39m=\u001b[39;49m\u001b[39mTrue\u001b[39;49;00m)\n\u001b[1;32m      3\u001b[0m \u001b[39mprint\u001b[39m(pt2\u001b[39m.\u001b[39mx,pt2\u001b[39m.\u001b[39my,pt2\u001b[39m.\u001b[39mz)\n",
      "File \u001b[0;32m/opt/homebrew/Caskroom/miniforge/base/envs/workbench/lib/python3.10/site-packages/shapely/coordinates.py:49\u001b[0m, in \u001b[0;36mtransform\u001b[0;34m(geometry, transformation, include_z)\u001b[0m\n\u001b[1;32m      9\u001b[0m \u001b[39m\u001b[39m\u001b[39m\"\"\"Returns a copy of a geometry array with a function applied to its\u001b[39;00m\n\u001b[1;32m     10\u001b[0m \u001b[39mcoordinates.\u001b[39;00m\n\u001b[1;32m     11\u001b[0m \n\u001b[0;32m   (...)\u001b[0m\n\u001b[1;32m     46\u001b[0m \u001b[39m<POINT Z (1 1 1)>\u001b[39;00m\n\u001b[1;32m     47\u001b[0m \u001b[39m\"\"\"\u001b[39;00m\n\u001b[1;32m     48\u001b[0m geometry_arr \u001b[39m=\u001b[39m np\u001b[39m.\u001b[39marray(geometry, dtype\u001b[39m=\u001b[39mnp\u001b[39m.\u001b[39mobject_)  \u001b[39m# makes a copy\u001b[39;00m\n\u001b[0;32m---> 49\u001b[0m coordinates \u001b[39m=\u001b[39m lib\u001b[39m.\u001b[39;49mget_coordinates(geometry_arr, include_z, \u001b[39mFalse\u001b[39;49;00m)\n\u001b[1;32m     50\u001b[0m new_coordinates \u001b[39m=\u001b[39m transformation(coordinates)\n\u001b[1;32m     51\u001b[0m \u001b[39m# check the array to yield understandable error messages\u001b[39;00m\n",
      "\u001b[0;31mTypeError\u001b[0m: One of the arguments is of incorrect type. Please provide only Geometry objects."
     ]
    }
   ],
   "source": [
    "pt2 = shapely.transform(pt, lambda x: x +1, include_z=True)\n",
    "\n",
    "print(pt2.x,pt2.y,pt2.z)\n"
   ]
  }
 ],
 "metadata": {
  "kernelspec": {
   "display_name": "workbench",
   "language": "python",
   "name": "python3"
  },
  "language_info": {
   "codemirror_mode": {
    "name": "ipython",
    "version": 3
   },
   "file_extension": ".py",
   "mimetype": "text/x-python",
   "name": "python",
   "nbconvert_exporter": "python",
   "pygments_lexer": "ipython3",
   "version": "3.10.8"
  },
  "orig_nbformat": 4,
  "vscode": {
   "interpreter": {
    "hash": "0c4ac59e349d62c65843c6e7b303fbe6191f8771b8af55365501989d28e04afb"
   }
  }
 },
 "nbformat": 4,
 "nbformat_minor": 2
}
