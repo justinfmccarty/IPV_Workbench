{
 "cells": [
  {
   "cell_type": "code",
   "execution_count": 5,
   "metadata": {},
   "outputs": [
    {
     "name": "stdout",
     "output_type": "stream",
     "text": [
      "The autoreload extension is already loaded. To reload it, use:\n",
      "  %reload_ext autoreload\n"
     ]
    }
   ],
   "source": [
    "%load_ext autoreload\n",
    "%autoreload 2\n"
   ]
  },
  {
   "cell_type": "code",
   "execution_count": 6,
   "metadata": {},
   "outputs": [],
   "source": [
    "from pathlib import Path\n",
    "import pvlib\n",
    "import pandas as pd\n",
    "import numpy as np\n",
    "import sys\n",
    "import configparser\n",
    "import pathlib\n",
    "\n",
    "module_path = \"/Users/jmccarty/Data/221205_ipv_workbench/github/IPV_Workbench\"\n",
    "sys.path.insert(0, module_path)\n",
    "from workbench.utilities import utils, config_utils\n",
    "from workbench.manage import manage"
   ]
  },
  {
   "cell_type": "code",
   "execution_count": 26,
   "metadata": {},
   "outputs": [
    {
     "name": "stdout",
     "output_type": "stream",
     "text": [
      "The project is initialized. We have created a base host object named 'B1000'.\n",
      "You will need to either move or create the geometry and panelizer files into the appropriate directories.\n",
      "The geometry files should follow the convention defined in the output of the template grasshopper and rhino files.\n",
      "The panelizer files are those that have been created using the grasshopper utility. The Panelizer is\n",
      "not ready for a pure python implementation as of yet.\n"
     ]
    }
   ],
   "source": [
    "par_dir = \"/Users/jmccarty/Desktop/test_project\"\n",
    "project_name = 'test1'\n",
    "base_epw = \"/Users/jmccarty/Desktop/CHE_ZH_Zurich.AP.066700_TMYx.2007-2021.epw\"\n",
    "device_name = 'mini-monocrystalline'\n",
    "module_orientation = 'portrait'\n",
    "\n",
    "config_file = manage.initiate_project(par_dir, project_name, base_epw, device_name, module_orientation)\n",
    "my_proj = manage.Project(config_file)\n",
    "my_proj.project_setup()"
   ]
  },
  {
   "cell_type": "code",
   "execution_count": 10,
   "metadata": {},
   "outputs": [
    {
     "data": {
      "text/plain": [
       "<configparser.ConfigParser at 0x149ae2b00>"
      ]
     },
     "execution_count": 10,
     "metadata": {},
     "output_type": "execute_result"
    }
   ],
   "source": [
    "my_proj.config.write()"
   ]
  },
  {
   "cell_type": "code",
   "execution_count": 9,
   "metadata": {},
   "outputs": [
    {
     "data": {
      "text/plain": [
       "'/Users/jmccarty/Desktop/test_project/test1/test1.config'"
      ]
     },
     "execution_count": 9,
     "metadata": {},
     "output_type": "execute_result"
    }
   ],
   "source": [
    "config_file"
   ]
  }
 ],
 "metadata": {
  "kernelspec": {
   "display_name": "workbench",
   "language": "python",
   "name": "python3"
  },
  "language_info": {
   "codemirror_mode": {
    "name": "ipython",
    "version": 3
   },
   "file_extension": ".py",
   "mimetype": "text/x-python",
   "name": "python",
   "nbconvert_exporter": "python",
   "pygments_lexer": "ipython3",
   "version": "3.10.8"
  },
  "orig_nbformat": 4,
  "vscode": {
   "interpreter": {
    "hash": "0c4ac59e349d62c65843c6e7b303fbe6191f8771b8af55365501989d28e04afb"
   }
  }
 },
 "nbformat": 4,
 "nbformat_minor": 2
}
