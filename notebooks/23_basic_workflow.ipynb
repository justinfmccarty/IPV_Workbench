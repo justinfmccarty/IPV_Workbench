{
 "cells": [
  {
   "cell_type": "code",
   "execution_count": 1,
   "metadata": {},
   "outputs": [],
   "source": [
    "%load_ext autoreload\n",
    "%autoreload 2"
   ]
  },
  {
   "cell_type": "code",
   "execution_count": 2,
   "metadata": {},
   "outputs": [],
   "source": [
    "import sys\n",
    "import subprocess\n",
    "import os\n",
    "import pandas as np\n",
    "import numpy as np\n",
    "import pathlib\n",
    "import re\n",
    "import glob\n",
    "import pandas as pd\n",
    "from pprint import pprint\n",
    "module_path = \"/Users/jmccarty/Data/221205_ipv_workbench/github/IPV_Workbench\"\n",
    "sys.path.insert(0, module_path)\n",
    "import workbench\n",
    "from workbench.utilities import general, config_utils, temporal, io\n",
    "from workbench.manage import manage, host\n",
    "# from workbench.manage import host\n",
    "from workbench.workflows import workflows\n",
    "from workbench.simulations import method_iv_solver, method_topology_solver\n",
    "from workbench.visualize import plots as ipv_plot"
   ]
  },
  {
   "cell_type": "markdown",
   "metadata": {
    "slideshow": {
     "slide_type": "subslide"
    }
   },
   "source": [
    "# Overview"
   ]
  },
  {
   "cell_type": "markdown",
   "metadata": {},
   "source": [
    "# Part 0 Setup a Working Environment"
   ]
  },
  {
   "cell_type": "markdown",
   "metadata": {},
   "source": [
    "- Install Miniconda\n",
    "- Install Git or Github Desktop\n",
    "- Clone repository  \n",
    "    https://github.com/justinfmccarty/IPV_Workbench/tree/main \n",
    "- Switch to the indicated branch\n",
    "- Open a terminal (anaconda prompt)\n",
    "- Create a new conda env  \n",
    "    `conda create --name my_new_env python=3.11`\n",
    "- Activate  \n",
    "    `conda activate my_new_env`\n",
    "- Install packages\n",
    "    - `pip install pvlib`\n",
    "    - `pip install timezonefinder`\n",
    "    - `pip install pyarrow`\n",
    "    - `pip install openpyxl`\n",
    "    - `ipykernel`\n",
    "    - `jupyter`\n",
    "    - `numpy pandas`\n",
    "    - `matplotlib`\n",
    "    - `xarray`\n",
    "    - `scipy`\n",
    "- Open jupyter notebook or another jupyter interface\n",
    "    -  `jupyter notebook`\n",
    "- navigate to this notebook"
   ]
  },
  {
   "cell_type": "markdown",
   "metadata": {
    "slideshow": {
     "slide_type": "slide"
    }
   },
   "source": [
    "# Part 1 Initialise and Build Model"
   ]
  },
  {
   "cell_type": "markdown",
   "metadata": {
    "slideshow": {
     "slide_type": "slide"
    }
   },
   "source": [
    "## 1.1 Initialise"
   ]
  },
  {
   "cell_type": "code",
   "execution_count": null,
   "metadata": {
    "slideshow": {
     "slide_type": "subslide"
    }
   },
   "outputs": [],
   "source": [
    "# initialise the project folder\n",
    "# this creates a project folder in the parent dir using the project name and the base EPW file\n",
    "# the most important result of this process is the config file\n",
    "\n",
    "parent_dir = os.path.join(\"/Users\",\"jmccarty\",\"Desktop\",\"idp_tutorial\")\n",
    "project_name = \"idp_intro_day\"\n",
    "project_epw = os.path.join(\"/Users\",\"jmccarty\",\"Downloads\", \"fluntern_2001-2017.epw\")\n",
    "\n",
    "config_path = manage.initiate_project(parent_dir, project_name, project_epw)"
   ]
  },
  {
   "cell_type": "markdown",
   "metadata": {
    "slideshow": {
     "slide_type": "subslide"
    }
   },
   "source": [
    "\n",
    "<div style=\"align-contents: center; width: 600px;\">\n",
    "<img src=\"../assets/folder_struct_new config.png\" alt=\"Basic Config File\" style=\"float:left; width: 100%;\"/>\n",
    "<p style=\"text-align: center; margin: 0 auto; width: 90%;\"> The initial folder structure\n",
    "</p>\n",
    "</div>"
   ]
  },
  {
   "cell_type": "markdown",
   "metadata": {},
   "source": [
    "\n",
    "<div style=\"align-contents: center; width: 600px;\">\n",
    "<img src=\"../assets/basic_config_file.png\" alt=\"Basic Config File\" style=\"float:left; width: 100%;\"/>\n",
    "<p style=\"text-align: center; margin: 0 auto; width: 90%;\"> Here we can see the default config file that was just created. There are several sections and under each paremters that we will adjust throughout the tutorial using an instance of a Python object that is meant for managing the project.\n",
    "</p>\n",
    "</div>"
   ]
  },
  {
   "cell_type": "code",
   "execution_count": null,
   "metadata": {},
   "outputs": [],
   "source": [
    "# intialise the project manager object using the config file\n",
    "# the basic operations in the project manager is the creation of file paths associated to the object which makes writing files, getting input data, \n",
    "# and accessing project details much easier\n",
    "project_manager = manage.Project(config_path)\n",
    "\n",
    "# for example when the projec tis initiated it reads the location details of the EPW file and enters them into the config \n",
    "print(\"Project latitude: \", project_manager.management_latitude)\n",
    "print(\"Project longitude: \", project_manager.management_longitude)"
   ]
  },
  {
   "cell_type": "code",
   "execution_count": null,
   "metadata": {},
   "outputs": [],
   "source": [
    "# Feature Example\n",
    "# you can directly manipulate the config file using the edit_cfg_file class method of the project manager\n",
    "# you just need to enter the secion (in brackets in the file), the key (what you want to edit), and the new value\n",
    "\n",
    "# in this example we will change the host name (we will cover hosts later, but this is essentially a building name)\n",
    "print(project_manager.management_host_name)\n",
    "project_manager.edit_cfg_file(\"management\", \"host_name\", \"B1008\")\n",
    "print(project_manager.management_host_name)"
   ]
  },
  {
   "cell_type": "code",
   "execution_count": null,
   "metadata": {},
   "outputs": [],
   "source": [
    "# the project manager contains a key method for setting up the rest of the project strucutre and th einitial files\n",
    "# there are several base files stored in your copy of CACTUS, they will be copied into a new file driectory\n",
    "project_manager.project_setup()"
   ]
  },
  {
   "cell_type": "markdown",
   "metadata": {},
   "source": [
    "\n",
    "<div style=\"align-contents: center; width: 600px;\">\n",
    "<img src=\"../assets/folder_struct_initialised project.png\" alt=\"Basic Config File\" style=\"float:left; width: 100%;\"/>\n",
    "<p style=\"text-align: center; margin: 0 auto; width: 90%;\"> Upon intialising the project a large file structure will be created. Importantly some template files will be added to ghe geometry subfolder that we can use to build our own project.\n",
    "</p>\n",
    "</div>"
   ]
  },
  {
   "cell_type": "markdown",
   "metadata": {
    "slideshow": {
     "slide_type": "slide"
    }
   },
   "source": [
    "## 1.2 Model Builder"
   ]
  },
  {
   "cell_type": "markdown",
   "metadata": {},
   "source": [
    "<div style=\"align-contents: center; width: 600px;\">\n",
    "<img src=\"../assets/cactus_template_geo.png\" alt=\"Basic Config File\" style=\"float:left; width: 100%;\"/>\n",
    "<p style=\"text-align: center; margin: 0 auto; width: 90%;\"> In its current form CACTUS still requires the user to rely on Rhino and Grasshopper for building the 3D model. This will change in future versions. The provided templates simplify the process by showing a small example that can be replaced. Here we see the template file \"0_cactus_geometry_template.3dm\" and the corresponding Grasshopper file.\n",
    "</p>\n",
    "<br>\n",
    "<p style=\"text-align: left; margin: 0 auto; width: 90%;\"> I have tried to reduce the number of dependencies for the Grasshopper scripts but several additional packages are required: <br \\>\n",
    " - Pancake: https://www.food4rhino.com/en/app/pancake  <br \\>\n",
    " - Human: https://www.food4rhino.com/en/app/human\n",
    "</p>\n",
    "</div>"
   ]
  },
  {
   "cell_type": "markdown",
   "metadata": {},
   "source": [
    "<div style=\"align-contents: center; width: 400px;\">\n",
    "<img src=\"../assets/duplicate_templates.png\" alt=\"Basic Config File\" style=\"float:left; width: 100%;\"/>\n",
    "<p style=\"text-align: center; margin: 0 auto; width: 90%;\"> Because these are template files and can potentially be overwritten if the project_manager.project_setup method is called again the first thing to do is make copies and rename or saveas. Then open the renamed files that gein with \"0_\". This is the geometry modeler.\n",
    "</p>\n",
    "</div>"
   ]
  },
  {
   "cell_type": "markdown",
   "metadata": {},
   "source": [
    "<div style=\"align-contents: center; width: 400px;\">\n",
    "<img src=\"../assets/set project config.png\" alt=\"Basic Config File\" style=\"float:left; width: 100%;\"/>\n",
    "<p style=\"text-align: center; margin: 0 auto; width: 90%;\"> The first step is to link the config file to the geometry modeling workflow by setting the Project Config File (File Path) component to the location of your config file. \n",
    "</p>\n",
    "</div>"
   ]
  },
  {
   "cell_type": "markdown",
   "metadata": {},
   "source": [
    "<div style=\"align-contents: center; width: 400px;\">\n",
    "<img src=\"../assets/geometry_builder_export.png\" alt=\"Basic Config File\" style=\"float:left; width: 100%;\"/>\n",
    "<p style=\"text-align: center; margin: 0 auto; width: 90%;\"> Each group on the left side of the grasshopper definition provides a specific function for intaking geometry, manipulating it based on its type, and feeding it to the export component, which is shown here. This is the objective of the gemoetry builder template. \n",
    "</p>\n",
    "</div>"
   ]
  },
  {
   "cell_type": "markdown",
   "metadata": {},
   "source": [
    "<div style=\"align-contents: center; width: 400px;\">\n",
    "<img src=\"../assets/geometry_builder_host.png\" alt=\"Basic Config File\" style=\"float:left; width: 100%;\"/>\n",
    "<p style=\"text-align: center; margin: 0 auto; width: 90%;\"> The object that contains the surfaces you want to apply PV panels to is known as the host. In this case that is the building highted in green. The grasshopper file uses a pipeline component to intake objects that are drawn in Rhino and stored in specific layers. \n",
    "</p>\n",
    "</div>"
   ]
  },
  {
   "cell_type": "markdown",
   "metadata": {},
   "source": [
    "<div style=\"align-contents: center; width: 400px;\">\n",
    "<img src=\"../assets/geometry_builder_rename_host.png\" alt=\"Basic Config File\" style=\"float:left; width: 100%;\"/>\n",
    "<p style=\"text-align: center; margin: 0 auto; width: 90%;\"> Note that we changed the host name to B1008 in the config file in an earlier cell. We need to make this adjustment in the grasshopper tempalte as well.\n",
    "</p>\n",
    "</div>"
   ]
  },
  {
   "cell_type": "markdown",
   "metadata": {},
   "source": [
    "<div style=\"align-contents: center; width: 400px;\">\n",
    "<img src=\"../assets/geometry_builder_layers.png\" alt=\"Basic Config File\" style=\"float:left; width: 100%;\"/>\n",
    "<p style=\"text-align: center; margin: 0 auto; width: 90%;\"> Here we show the basic layers that the template comes with and is prepared to intake. Extending past these is not recommended at this time.\n",
    "</p>\n",
    "</div>"
   ]
  },
  {
   "cell_type": "markdown",
   "metadata": {},
   "source": [
    "<div style=\"align-contents: center;  width: 800px; height: 250px; align-contents: middle\">\n",
    "<img src=\"../assets/geometry_builder_terrain.png\" alt=\"Basic Config File\" style=\"float:left; width: 33%;\"/>\n",
    "<img src=\"../assets/geometry_builder_host_objects.png\" alt=\"Basic Config File\" style=\"float:left; width: 33%;\"/>\n",
    "<img src=\"../assets/geometry_builder_opaque_context.png\" alt=\"Basic Config File\" style=\"float:left; width: 33%;\"/>\n",
    "</div>\n",
    "<div style=\"align-contents: center; width: 800px; height: 150px; align-contents: middle\">\n",
    "<img src=\"../assets/geometry_builder_seasonal_vegetation.png\" alt=\"Basic Config File\" style=\"float:left; width: 50%;\"/>\n",
    "<img src=\"../assets/geometry_builder_constant_vegetation.png\" alt=\"Basic Config File\" style=\"float:left; width: 50%;\"/>\n",
    "</div>\n",
    "<div style=\"align-contents: center; width: 800px\">\n",
    "<p style=\"text-align: center; margin: 0 auto; width: 90%;\">Other than the host here are the other layers. Left to right: terrain, context objects on the host, surrounding opaque context (shading), vegetation that sheds leaves throughout the year, vegetation that does not shed leaves.\n",
    "</p>\n",
    "</div>\n"
   ]
  },
  {
   "cell_type": "markdown",
   "metadata": {},
   "source": [
    "<div style=\"align-contents: center; width: 800px;\">\n",
    "<img src=\"../assets/geometry_builder_annotations.png\" alt=\"Basic Config File\" style=\"float:left; width: 100%;\"/>\n",
    "<p style=\"text-align: center; margin: 0 auto; width: 90%;\"> The template does not necessarily know which surfaces on the host that it is supposed to keep for the future panelizaer and analysis. Therefore there is a component group that allows the user to set a list corresponding to the surfaces. For each surface find the text tag and enter into the list the correct category under the same index order.\n",
    "</p>\n",
    "</div>"
   ]
  },
  {
   "cell_type": "markdown",
   "metadata": {},
   "source": [
    "<div style=\"align-contents: center; width: 800px;\">\n",
    "<img src=\"../assets/geometry_builder_surface_builder.png\" alt=\"Basic Config File\" style=\"float:left; width: 100%;\"/>\n",
    "<p style=\"text-align: center; margin: 0 auto; width: 90%;\"> The last piece of the builder deals with surfaces that may have non integrated arrays. In this case that is the rooftop array. The sliders control the parameters of the array such that the user is free to manipulate it however they would like.\n",
    "</p>\n",
    "</div>"
   ]
  },
  {
   "cell_type": "markdown",
   "metadata": {},
   "source": [
    "<div style=\"align-contents: center; width: 800px;\">\n",
    "<img src=\"../assets/geometry_builder_new_surfaces.png\" alt=\"Basic Config File\" style=\"float:left; width: 100%;\"/>\n",
    "<p style=\"text-align: center; margin: 0 auto; width: 90%;\"> It is understandable that outside of these layers you may want to add some geometry to act as a surface for PV. Luckily, with the flexibility of Grasshopper this is possible. Here we add several surfaces in the form of fixed shading devices that a PV module could be placed on. Note the new layer \"new_surfaces\".\n",
    "</p>\n",
    "</div>\n",
    "<br>\n",
    "<div style=\"align-contents: center; width: 800px;\">\n",
    "<img src=\"../assets/geometry_builder_add_surface_A.png\" alt=\"Basic Config File\" style=\"float:left; width: 50%;\"/>\n",
    "<img src=\"../assets/geometry_builder_add_surface_B.png\" alt=\"Basic Config File\" style=\"float:left; width: 50%;\"/> \n",
    "<br>\n",
    "<p style=\"text-align: center; margin: 0 auto; width: 90%;\"> Once the new surfaces are pulled into Grasshopper using the newly added pipeline component we can conncet them into the flow. At the far right of the script is a Merge component to add the surfaces to.\n",
    "</p>\n",
    "</div>"
   ]
  },
  {
   "cell_type": "markdown",
   "metadata": {},
   "source": [
    "<div style=\"align-contents: center; width: 800px;\">\n",
    "<img src=\"../assets/geometry_builder_export_False.png\" alt=\"Basic Config File\" style=\"float:left; width: 50%;\"/>\n",
    "<img src=\"../assets/geometry_builder_export_True.png\" alt=\"Basic Config File\" style=\"float:left; width: 50%;\"/> \n",
    "<br>\n",
    "<p style=\"text-align: center; margin: 0 auto; width: 90%;\"> Once finished with the geometry builder the model can be exported to a fresh rhino file using the boolean attached to the export component.\n",
    "</p>"
   ]
  },
  {
   "cell_type": "markdown",
   "metadata": {},
   "source": [
    "\n",
    "<div style=\"align-contents: center; width: 600px;\">\n",
    "<img src=\"../assets/folder_struct_geometry_done.png\" alt=\"Basic Config File\" style=\"float:left; width: 100%;\"/>\n",
    "<p style=\"text-align: center; margin: 0 auto; width: 90%;\"> The newly created geometry file.\n",
    "</p>\n",
    "</div>"
   ]
  },
  {
   "cell_type": "markdown",
   "metadata": {},
   "source": [
    "## 1.3 Panelizer"
   ]
  },
  {
   "cell_type": "markdown",
   "metadata": {},
   "source": [
    "\n",
    "<div style=\"align-contents: center; width: 800px;\">\n",
    "<img src=\"../assets/panelizer_overview_coarse.png\" alt=\"Basic Config File\" style=\"float:left; width: 100%;\"/>\n",
    "<p style=\"text-align: center; margin: 0 auto; width: 90%;\"> The Panelizer is a mostly automated Grasshopper script which intakes details about a potential PV module and automatically generates an array on the specified surfaces. The key output is a file type known as a pickle which is a Python native format. This pickle describes the details of the various arrays for a Host object. The file is used to relate irradiance data from the irradiance workflow, which the Panelizer script is also responble for generating the properly formattted Radiance folder that is used for the raytracing. This Grasshopper version is a Beta version of the Panelizer, which will move to pure python in the coming months. \n",
    "</p>\n",
    "</div>"
   ]
  },
  {
   "cell_type": "markdown",
   "metadata": {},
   "source": [
    "<div style=\"align-contents: center; width: 800px;\">\n",
    "<img src=\"../assets/typical_devices.png\" alt=\"Basic Config File\" style=\"float:left; width: 50%;\"/>\n",
    "<img src=\"../assets/bipv_co2_impact.png\" alt=\"Basic Config File\" style=\"float:left; width: 50%;\"/> \n",
    "\n",
    "<br>\n",
    "<p style=\"text-align: center; margin: 0 auto; width: 90%;\"> The first thing to do select a device to work from. Included with CACTUS are several \"typical\" devices that were charatersied from a large database of modules on the market from the past 5 years. It is possible to create new devices, but we will go over that in a later tutorial. Here you can see the typical devices on the left and then how they relate to emboided carbon from Galimshina et al. (2023).\n",
    "</p>\n",
    "</div>"
   ]
  },
  {
   "cell_type": "code",
   "execution_count": null,
   "metadata": {},
   "outputs": [],
   "source": [
    "# because we have restarted our notebook we will reactivate our project by reading in the config path\n",
    "# place your config path here\n",
    "config_path = \"/Users/jmccarty/Data/221205_ipv_workbench/tutorials/cactus_tutorial/cactus_tutorial.config\"\n",
    "project_manager = manage.Project(config_path)\n",
    "\n",
    "# rerun the setup in order to rebuild the entire project object and its attributes\n",
    "project_manager.project_setup()\n"
   ]
  },
  {
   "cell_type": "code",
   "execution_count": null,
   "metadata": {},
   "outputs": [],
   "source": [
    "project_manager.irradiance_use_accelerad"
   ]
  },
  {
   "cell_type": "code",
   "execution_count": null,
   "metadata": {},
   "outputs": [],
   "source": [
    "# wee need to input the device id into our config file\n",
    "# in the shared folder of our project you will find CSV file for typical devices \"cactus_devices\" \n",
    "# let's see what we have \"cactus_tutorial/inputs/shared/cell_module_data/cactus_devices.csv\""
   ]
  },
  {
   "cell_type": "code",
   "execution_count": null,
   "metadata": {},
   "outputs": [],
   "source": [
    "# we need to change the device id config option so grasshopper/panelizer can read it\n",
    "print(project_manager.analysis_device_id)\n",
    "project_manager.edit_cfg_file(\"analysis\", \"device_id\", \"D003\")\n",
    "print(project_manager.analysis_device_id)"
   ]
  },
  {
   "cell_type": "markdown",
   "metadata": {},
   "source": [
    "\n",
    "<div style=\"align-contents: center; width: 500px;\">\n",
    "<img src=\"../assets/panelizer_tutorial/panelizer_files.png\" alt=\"Basic Config File\" style=\"float:left; width: 100%;\"/>\n",
    "<p style=\"text-align: center; margin: 0 auto; width: 90%;\"> Now we can open the Panelizer files. Start with the rhino file and then load the grasshopper.\n",
    "</p>\n",
    "</div>"
   ]
  },
  {
   "cell_type": "markdown",
   "metadata": {},
   "source": [
    "\n",
    "<div style=\"align-contents: center; width: 800px;\">\n",
    "<img src=\"../assets/panelizer_tutorial/panelizer_overview.png\" alt=\"Basic Config File\" style=\"float:left; width: 100%;\"/>\n",
    "<p style=\"text-align: center; margin: 0 auto; width: 90%;\"> The panelizer has several parts. The first two are separated vertically. The upper workflow is for the actual panelization process. The smaller lower section is purely for writing a Radiance simulation project that CACTUS can read.\n",
    "</p>\n",
    "</div>"
   ]
  },
  {
   "cell_type": "code",
   "execution_count": null,
   "metadata": {},
   "outputs": [],
   "source": [
    "# show slideshow"
   ]
  },
  {
   "cell_type": "markdown",
   "metadata": {},
   "source": [
    "# System Analysis"
   ]
  },
  {
   "cell_type": "markdown",
   "metadata": {},
   "source": [
    "## 2.1 Irradiance"
   ]
  },
  {
   "cell_type": "code",
   "execution_count": null,
   "metadata": {},
   "outputs": [],
   "source": [
    "# because we have restarted our notebook we will reactivate our project by reading in the config path\n",
    "# place your config path here\n",
    "config_path = \"/Users/jmccarty/Data/221205_ipv_workbench/tutorials/cactus_tutorial/cactus_tutorial.config\"\n",
    "project_manager = manage.Project(config_path)\n",
    "\n",
    "# rerun the setup in order to rebuild the entire project object and its attributes\n",
    "project_manager.project_setup()"
   ]
  },
  {
   "cell_type": "code",
   "execution_count": null,
   "metadata": {},
   "outputs": [],
   "source": [
    "building = host.Host(project_manager)"
   ]
  },
  {
   "cell_type": "code",
   "execution_count": null,
   "metadata": {},
   "outputs": [],
   "source": [
    "workflows.run_irradiance(building, overwrite=False)"
   ]
  },
  {
   "cell_type": "markdown",
   "metadata": {},
   "source": [
    "## 2.2 Simplified Analysis"
   ]
  },
  {
   "cell_type": "code",
   "execution_count": null,
   "metadata": {},
   "outputs": [],
   "source": [
    "workflows.run_module_point(building, \"center_point\")"
   ]
  },
  {
   "cell_type": "code",
   "execution_count": null,
   "metadata": {},
   "outputs": [],
   "source": [
    "workflows.run_module_point(building, \"cell_point\")"
   ]
  },
  {
   "cell_type": "code",
   "execution_count": null,
   "metadata": {},
   "outputs": [],
   "source": [
    "center_pt = pd.read_csv(os.path.join(project_manager.GENERAL_RESULTS_DIR,\"base_center_point_building_level_results_hourly.csv\"))\n",
    "cell_pt = pd.read_csv(os.path.join(project_manager.GENERAL_RESULTS_DIR,\"base_cell_point_building_level_results_hourly.csv\"))\n",
    "\n",
    "idx = pd.to_datetime(center_pt['index'])\n",
    "\n",
    "center_pt.set_index(idx,inplace=True)\n",
    "cell_pt.set_index(idx,inplace=True)\n",
    "\n",
    "center_pt = center_pt.resample(\"D\").sum()\n",
    "cell_pt = cell_pt.resample(\"D\").sum()\n",
    "\n",
    "# relative difference\n",
    "(center_pt['electricity_gen_bulk_building_kwh'] / cell_pt['electricity_gen_bulk_building_kwh']).plot()"
   ]
  },
  {
   "cell_type": "code",
   "execution_count": null,
   "metadata": {},
   "outputs": [],
   "source": [
    "# absolute difference\n",
    "(center_pt['electricity_gen_bulk_building_kwh'] - cell_pt['electricity_gen_bulk_building_kwh']).plot()"
   ]
  },
  {
   "cell_type": "markdown",
   "metadata": {},
   "source": [
    "# 2.3 IV Based Analysis"
   ]
  },
  {
   "cell_type": "code",
   "execution_count": 3,
   "metadata": {},
   "outputs": [
    {
     "name": "stdout",
     "output_type": "stream",
     "text": [
      "Destination file already exists, copy aborted./n/Users/jmccarty/Data/221205_ipv_workbench/tutorials/cactus_tutorial/inputs/shared/tmy/base.epw\n",
      "Destination file already exists, copy aborted./n/Users/jmccarty/Data/221205_ipv_workbench/tutorials/cactus_tutorial/inputs/hosts/B1008/base/geometry/0_cactus_geometry_template.3dm\n",
      "Destination file already exists, copy aborted./n/Users/jmccarty/Data/221205_ipv_workbench/tutorials/cactus_tutorial/inputs/hosts/B1008/base/geometry/0_cactus_geometry_template.gh\n",
      "Destination file already exists, copy aborted./n/Users/jmccarty/Data/221205_ipv_workbench/tutorials/cactus_tutorial/inputs/hosts/B1008/base/geometry/1_cactus_panelizer_template.gh\n",
      "The project is initialized. We have created a base host object named 'B1008'.\n",
      "You will need to either move or create the geometry and panelizer files into the appropriate directories.\n",
      "The geometry files should follow the convention defined in the output of the template grasshopper and rhino files.\n",
      "The panelizer files are those that have been created using the grasshopper utility. The Panelizer is\n",
      "not ready for a pure python implementation as of yet.\n"
     ]
    }
   ],
   "source": [
    "# because we have restarted our notebook we will reactivate our project by reading in the config path\n",
    "# place your config path here\n",
    "config_path = \"/Users/jmccarty/Data/221205_ipv_workbench/tutorials/cactus_tutorial/cactus_tutorial.config\"\n",
    "project_manager = manage.Project(config_path)\n",
    "\n",
    "# rerun the setup in order to rebuild the entire project object and its attributes\n",
    "project_manager.project_setup()\n"
   ]
  },
  {
   "cell_type": "code",
   "execution_count": 4,
   "metadata": {},
   "outputs": [],
   "source": [
    "building = host.Host(project_manager)"
   ]
  },
  {
   "cell_type": "code",
   "execution_count": null,
   "metadata": {},
   "outputs": [],
   "source": [
    "workflows.run_irradiance(building, overwrite=False)"
   ]
  },
  {
   "cell_type": "code",
   "execution_count": null,
   "metadata": {},
   "outputs": [],
   "source": [
    "surface = '{1008;7}'\n",
    "module = '{1008;7;0}'\n",
    "surface_details = building.get_dict_instance([surface])['Details']\n",
    "custom_module_data = pd.read_csv(building.project.module_cell_data, index_col='general_device_id').loc[\n",
    "    surface_details['device_id']].to_dict()\n",
    "module_dict = building.get_dict_instance([surface,module])\n",
    "module_dict['Parameters'] = workbench.device.devices.build_parameter_dict(module_dict, custom_module_data)\n",
    "module_dict['Maps']"
   ]
  },
  {
   "cell_type": "code",
   "execution_count": null,
   "metadata": {},
   "outputs": [],
   "source": [
    "i,v = iv_solver.solve_iv_curve(module_dict['Parameters'],1000,25)\n",
    "ipv_plot.plot_curves([i], [v], module_dict['Parameters'])"
   ]
  },
  {
   "cell_type": "code",
   "execution_count": null,
   "metadata": {},
   "outputs": [],
   "source": [
    "building.solve_all_modules_iv_curve(surface)"
   ]
  },
  {
   "cell_type": "markdown",
   "metadata": {},
   "source": [
    "## 2.4 Comprehensive Analysis"
   ]
  },
  {
   "cell_type": "markdown",
   "metadata": {},
   "source": [
    "```\n",
    "def comprehensive_surface_analysis(host_object):\n",
    "    # Before initializing a workflow always update the config file\n",
    "    # in case a manual edit was made\n",
    "    host_object.project.update_cfg()\n",
    "\n",
    "    for topology in ['micro_inverter', 'string_inverter', 'central_inverter']:\n",
    "        run_topology_solver(host_object, topology)\n",
    "        results_writers.write_building_results_timeseries(host_object, topology)\n",
    "\n",
    "    for point_resolution in ['cell_point', 'center_point']:\n",
    "        run_module_point(host_object, point_resolution)\n",
    "```"
   ]
  },
  {
   "cell_type": "code",
   "execution_count": 17,
   "metadata": {},
   "outputs": [
    {
     "data": {
      "text/plain": [
       "8760"
      ]
     },
     "execution_count": 17,
     "metadata": {},
     "output_type": "execute_result"
    }
   ],
   "source": [
    "surface = building.get_surfaces()[0]\n",
    "module = building.get_modules(surface)[0]\n",
    "surface_dict = building.get_dict_instance([surface])\n",
    "\n",
    "len(surface_dict['Modules'][module]['Curves']['Imod'])"
   ]
  },
  {
   "cell_type": "code",
   "execution_count": 52,
   "metadata": {},
   "outputs": [
    {
     "data": {
      "text/plain": [
       "(8760,)"
      ]
     },
     "execution_count": 52,
     "metadata": {},
     "output_type": "execute_result"
    }
   ],
   "source": [
    "np.sum([np.arange(0,8760)]*3,axis=0).shape"
   ]
  },
  {
   "cell_type": "code",
   "execution_count": 54,
   "metadata": {},
   "outputs": [
    {
     "name": "stdout",
     "output_type": "stream",
     "text": [
      "Existing results files detected and the 'overwrite' arg is set to False, skipping surface 1008_10.\n",
      "Existing results files detected and the 'overwrite' arg is set to False, skipping surface 1008_14.\n",
      "Existing results files detected and the 'overwrite' arg is set to False, skipping surface 1008_12.\n",
      "Existing results files detected and the 'overwrite' arg is set to False, skipping surface 1008_9.\n",
      "Existing results files detected and the 'overwrite' arg is set to False, skipping surface 1008_6.\n",
      "Existing results files detected and the 'overwrite' arg is set to False, skipping surface 1008_13.\n",
      "Existing results files detected and the 'overwrite' arg is set to False, skipping surface 1008_3.\n",
      "Existing results files detected and the 'overwrite' arg is set to False, skipping surface 1008_7.\n",
      "Existing results files detected and the 'overwrite' arg is set to False, skipping surface 1008_8.\n",
      "Existing results files detected and the 'overwrite' arg is set to False, skipping surface 1008_5.\n",
      "Existing results files detected and the 'overwrite' arg is set to False, skipping surface 1008_0.\n",
      "Existing results files detected and the 'overwrite' arg is set to False, skipping surface 1008_2.\n",
      "Existing results files detected and the 'overwrite' arg is set to False, skipping surface 1008_1.\n",
      "Existing results files detected and the 'overwrite' arg is set to False, skipping surface 1008_4.\n",
      "Existing results files detected and the 'overwrite' arg is set to False, skipping surface 1008_11.\n",
      "Module {1008;10;3} was already solved. Skipping\n",
      "Module {1008;10;6} was already solved. Skipping\n",
      "Module {1008;10;4} was already solved. Skipping\n",
      "Module {1008;10;5} was already solved. Skipping\n",
      "Module {1008;10;0} was already solved. Skipping\n",
      "Module {1008;10;1} was already solved. Skipping\n",
      "Module {1008;10;2} was already solved. Skipping\n",
      "Module {1008;14;6} was already solved. Skipping\n",
      "Module {1008;14;24} was already solved. Skipping\n",
      "Module {1008;14;122} was already solved. Skipping\n",
      "Module {1008;14;86} was already solved. Skipping\n",
      "Module {1008;14;23} was already solved. Skipping\n",
      "Module {1008;14;57} was already solved. Skipping\n",
      "Module {1008;14;16} was already solved. Skipping\n",
      "Module {1008;14;27} was already solved. Skipping\n",
      "Module {1008;14;126} was already solved. Skipping\n",
      "Module {1008;14;38} was already solved. Skipping\n",
      "Module {1008;14;102} was already solved. Skipping\n",
      "Module {1008;14;82} was already solved. Skipping\n",
      "Module {1008;14;71} was already solved. Skipping\n",
      "Module {1008;14;25} was already solved. Skipping\n",
      "Module {1008;14;37} was already solved. Skipping\n",
      "Module {1008;14;79} was already solved. Skipping\n",
      "Module {1008;14;85} was already solved. Skipping\n",
      "Module {1008;14;41} was already solved. Skipping\n",
      "Module {1008;14;96} was already solved. Skipping\n",
      "Module {1008;14;9} was already solved. Skipping\n",
      "Module {1008;14;44} was already solved. Skipping\n",
      "Module {1008;14;59} was already solved. Skipping\n",
      "Module {1008;14;49} was already solved. Skipping\n",
      "Module {1008;14;98} was already solved. Skipping\n",
      "Module {1008;14;47} was already solved. Skipping\n",
      "Module {1008;14;17} was already solved. Skipping\n",
      "Module {1008;14;124} was already solved. Skipping\n",
      "Module {1008;14;33} was already solved. Skipping\n",
      "Module {1008;14;118} was already solved. Skipping\n",
      "Module {1008;14;28} was already solved. Skipping\n",
      "Module {1008;14;46} was already solved. Skipping\n",
      "Module {1008;14;50} was already solved. Skipping\n",
      "Module {1008;14;78} was already solved. Skipping\n",
      "Module {1008;14;22} was already solved. Skipping\n",
      "Module {1008;14;93} was already solved. Skipping\n",
      "Module {1008;14;105} was already solved. Skipping\n",
      "Module {1008;14;31} was already solved. Skipping\n",
      "Module {1008;14;95} was already solved. Skipping\n",
      "Module {1008;14;107} was already solved. Skipping\n",
      "Module {1008;14;115} was already solved. Skipping\n",
      "Module {1008;14;61} was already solved. Skipping\n",
      "Module {1008;14;15} was already solved. Skipping\n",
      "Module {1008;14;129} was already solved. Skipping\n",
      "Module {1008;14;94} was already solved. Skipping\n",
      "Module {1008;14;34} was already solved. Skipping\n",
      "Module {1008;14;127} was already solved. Skipping\n",
      "Module {1008;14;75} was already solved. Skipping\n",
      "Module {1008;14;68} was already solved. Skipping\n",
      "Module {1008;14;32} was already solved. Skipping\n",
      "Module {1008;14;103} was already solved. Skipping\n",
      "Module {1008;14;29} was already solved. Skipping\n",
      "Module {1008;14;62} was already solved. Skipping\n",
      "Module {1008;14;120} was already solved. Skipping\n",
      "Module {1008;14;121} was already solved. Skipping\n",
      "Module {1008;14;8} was already solved. Skipping\n",
      "Module {1008;14;90} was already solved. Skipping\n",
      "Module {1008;14;26} was already solved. Skipping\n",
      "Module {1008;14;55} was already solved. Skipping\n",
      "Module {1008;14;99} was already solved. Skipping\n",
      "Module {1008;14;18} was already solved. Skipping\n",
      "Module {1008;14;114} was already solved. Skipping\n",
      "Module {1008;14;56} was already solved. Skipping\n",
      "Module {1008;14;88} was already solved. Skipping\n",
      "Module {1008;14;3} was already solved. Skipping\n",
      "Module {1008;14;123} was already solved. Skipping\n",
      "Module {1008;14;125} was already solved. Skipping\n",
      "Module {1008;14;74} was already solved. Skipping\n",
      "Module {1008;14;19} was already solved. Skipping\n",
      "Module {1008;14;45} was already solved. Skipping\n",
      "Module {1008;14;30} was already solved. Skipping\n",
      "Module {1008;14;70} was already solved. Skipping\n",
      "Module {1008;14;109} was already solved. Skipping\n",
      "Module {1008;14;14} was already solved. Skipping\n",
      "Module {1008;14;73} was already solved. Skipping\n",
      "Module {1008;14;11} was already solved. Skipping\n",
      "Module {1008;14;83} was already solved. Skipping\n",
      "Module {1008;14;0} was already solved. Skipping\n",
      "Module {1008;14;81} was already solved. Skipping\n",
      "Module {1008;14;89} was already solved. Skipping\n",
      "Module {1008;14;7} was already solved. Skipping\n",
      "Module {1008;14;1} was already solved. Skipping\n",
      "Module {1008;14;21} was already solved. Skipping\n",
      "Module {1008;14;5} was already solved. Skipping\n",
      "Module {1008;14;20} was already solved. Skipping\n",
      "Module {1008;14;40} was already solved. Skipping\n",
      "Module {1008;14;67} was already solved. Skipping\n",
      "Module {1008;14;84} was already solved. Skipping\n",
      "Module {1008;14;64} was already solved. Skipping\n",
      "Module {1008;14;92} was already solved. Skipping\n",
      "Module {1008;14;91} was already solved. Skipping\n",
      "Module {1008;14;2} was already solved. Skipping\n",
      "Module {1008;14;108} was already solved. Skipping\n",
      "Module {1008;14;60} was already solved. Skipping\n",
      "Module {1008;14;35} was already solved. Skipping\n",
      "Module {1008;14;131} was already solved. Skipping\n",
      "Module {1008;14;52} was already solved. Skipping\n",
      "Module {1008;14;4} was already solved. Skipping\n",
      "Module {1008;14;51} was already solved. Skipping\n",
      "Module {1008;14;72} was already solved. Skipping\n",
      "Module {1008;14;112} was already solved. Skipping\n",
      "Module {1008;14;36} was already solved. Skipping\n",
      "Module {1008;14;66} was already solved. Skipping\n",
      "Module {1008;14;100} was already solved. Skipping\n",
      "Module {1008;14;65} was already solved. Skipping\n",
      "Module {1008;14;106} was already solved. Skipping\n",
      "Module {1008;14;69} was already solved. Skipping\n",
      "Module {1008;14;58} was already solved. Skipping\n",
      "Module {1008;14;111} was already solved. Skipping\n",
      "Module {1008;14;119} was already solved. Skipping\n",
      "Module {1008;14;77} was already solved. Skipping\n",
      "Module {1008;14;54} was already solved. Skipping\n",
      "Module {1008;14;48} was already solved. Skipping\n",
      "Module {1008;14;113} was already solved. Skipping\n",
      "Module {1008;14;97} was already solved. Skipping\n",
      "Module {1008;14;76} was already solved. Skipping\n",
      "Module {1008;14;130} was already solved. Skipping\n",
      "Module {1008;14;10} was already solved. Skipping\n",
      "Module {1008;14;63} was already solved. Skipping\n",
      "Module {1008;14;39} was already solved. Skipping\n",
      "Module {1008;14;53} was already solved. Skipping\n",
      "Module {1008;14;104} was already solved. Skipping\n",
      "Module {1008;14;116} was already solved. Skipping\n",
      "Module {1008;14;13} was already solved. Skipping\n",
      "Module {1008;14;12} was already solved. Skipping\n",
      "Module {1008;14;43} was already solved. Skipping\n",
      "Module {1008;14;87} was already solved. Skipping\n",
      "Module {1008;14;117} was already solved. Skipping\n",
      "Module {1008;14;110} was already solved. Skipping\n",
      "Module {1008;14;101} was already solved. Skipping\n",
      "Module {1008;14;128} was already solved. Skipping\n",
      "Module {1008;14;42} was already solved. Skipping\n",
      "Module {1008;14;80} was already solved. Skipping\n",
      "Module {1008;12;5} was already solved. Skipping\n",
      "Module {1008;12;4} was already solved. Skipping\n",
      "Module {1008;12;0} was already solved. Skipping\n",
      "Module {1008;12;1} was already solved. Skipping\n",
      "Module {1008;12;2} was already solved. Skipping\n",
      "Module {1008;12;3} was already solved. Skipping\n",
      "Module {1008;12;6} was already solved. Skipping\n",
      "Module {1008;9;9} was already solved. Skipping\n",
      "Module {1008;9;8} was already solved. Skipping\n",
      "Module {1008;9;2} was already solved. Skipping\n",
      "Module {1008;9;5} was already solved. Skipping\n",
      "Module {1008;9;6} was already solved. Skipping\n",
      "Module {1008;9;7} was already solved. Skipping\n",
      "Module {1008;9;0} was already solved. Skipping\n",
      "Module {1008;9;3} was already solved. Skipping\n",
      "Module {1008;9;4} was already solved. Skipping\n",
      "Module {1008;9;1} was already solved. Skipping\n",
      "Module {1008;6;0} was already solved. Skipping\n",
      "Module {1008;13;4} was already solved. Skipping\n",
      "Module {1008;13;3} was already solved. Skipping\n",
      "Module {1008;13;0} was already solved. Skipping\n",
      "Module {1008;13;1} was already solved. Skipping\n",
      "Module {1008;13;2} was already solved. Skipping\n",
      "Module {1008;3;9} was already solved. Skipping\n",
      "Module {1008;3;0} was already solved. Skipping\n",
      "Module {1008;3;1} was already solved. Skipping\n",
      "Module {1008;3;10} was already solved. Skipping\n",
      "Module {1008;3;2} was already solved. Skipping\n",
      "Module {1008;3;4} was already solved. Skipping\n",
      "Module {1008;3;3} was already solved. Skipping\n",
      "Module {1008;3;11} was already solved. Skipping\n",
      "Module {1008;3;5} was already solved. Skipping\n",
      "Module {1008;3;6} was already solved. Skipping\n",
      "Module {1008;3;7} was already solved. Skipping\n",
      "Module {1008;3;8} was already solved. Skipping\n",
      "Module {1008;7;3} was already solved. Skipping\n",
      "Module {1008;7;93} was already solved. Skipping\n",
      "Module {1008;7;37} was already solved. Skipping\n",
      "Module {1008;7;63} was already solved. Skipping\n",
      "Module {1008;7;89} was already solved. Skipping\n",
      "Module {1008;7;18} was already solved. Skipping\n",
      "Module {1008;7;27} was already solved. Skipping\n",
      "Module {1008;7;68} was already solved. Skipping\n",
      "Module {1008;7;0} was already solved. Skipping\n",
      "Module {1008;7;90} was already solved. Skipping\n",
      "Module {1008;7;84} was already solved. Skipping\n",
      "Module {1008;7;94} was already solved. Skipping\n",
      "Module {1008;7;56} was already solved. Skipping\n",
      "Module {1008;7;12} was already solved. Skipping\n",
      "Module {1008;7;74} was already solved. Skipping\n",
      "Module {1008;7;21} was already solved. Skipping\n",
      "Module {1008;7;83} was already solved. Skipping\n",
      "Module {1008;7;25} was already solved. Skipping\n",
      "Module {1008;7;95} was already solved. Skipping\n",
      "Module {1008;7;52} was already solved. Skipping\n",
      "Module {1008;7;39} was already solved. Skipping\n",
      "Module {1008;7;28} was already solved. Skipping\n",
      "Module {1008;7;40} was already solved. Skipping\n",
      "Module {1008;7;33} was already solved. Skipping\n",
      "Module {1008;7;23} was already solved. Skipping\n",
      "Module {1008;7;20} was already solved. Skipping\n",
      "Module {1008;7;76} was already solved. Skipping\n",
      "Module {1008;7;77} was already solved. Skipping\n",
      "Module {1008;7;11} was already solved. Skipping\n",
      "Module {1008;7;64} was already solved. Skipping\n",
      "Module {1008;7;67} was already solved. Skipping\n",
      "Module {1008;7;10} was already solved. Skipping\n",
      "Module {1008;7;42} was already solved. Skipping\n",
      "Module {1008;7;17} was already solved. Skipping\n",
      "Module {1008;7;69} was already solved. Skipping\n",
      "Module {1008;7;62} was already solved. Skipping\n",
      "Module {1008;7;15} was already solved. Skipping\n",
      "Module {1008;7;2} was already solved. Skipping\n",
      "Module {1008;7;81} was already solved. Skipping\n",
      "Module {1008;7;16} was already solved. Skipping\n",
      "Module {1008;7;47} was already solved. Skipping\n",
      "Module {1008;7;49} was already solved. Skipping\n",
      "Module {1008;7;38} was already solved. Skipping\n",
      "Module {1008;7;4} was already solved. Skipping\n",
      "Module {1008;7;54} was already solved. Skipping\n",
      "Module {1008;7;66} was already solved. Skipping\n",
      "Module {1008;7;59} was already solved. Skipping\n",
      "Module {1008;7;29} was already solved. Skipping\n",
      "Module {1008;7;55} was already solved. Skipping\n",
      "Module {1008;7;5} was already solved. Skipping\n",
      "Module {1008;7;30} was already solved. Skipping\n",
      "Module {1008;7;8} was already solved. Skipping\n",
      "Module {1008;7;58} was already solved. Skipping\n",
      "Module {1008;7;45} was already solved. Skipping\n",
      "Module {1008;7;65} was already solved. Skipping\n",
      "Module {1008;7;13} was already solved. Skipping\n",
      "Module {1008;7;36} was already solved. Skipping\n",
      "Module {1008;7;78} was already solved. Skipping\n",
      "Module {1008;7;61} was already solved. Skipping\n",
      "Module {1008;7;19} was already solved. Skipping\n",
      "Module {1008;7;72} was already solved. Skipping\n",
      "Module {1008;7;14} was already solved. Skipping\n",
      "Module {1008;7;26} was already solved. Skipping\n",
      "Module {1008;7;80} was already solved. Skipping\n",
      "Module {1008;7;51} was already solved. Skipping\n",
      "Module {1008;7;22} was already solved. Skipping\n",
      "Module {1008;7;86} was already solved. Skipping\n",
      "Module {1008;7;82} was already solved. Skipping\n",
      "Module {1008;7;88} was already solved. Skipping\n",
      "Module {1008;7;46} was already solved. Skipping\n",
      "Module {1008;7;44} was already solved. Skipping\n",
      "Module {1008;7;92} was already solved. Skipping\n",
      "Module {1008;7;24} was already solved. Skipping\n",
      "Module {1008;7;9} was already solved. Skipping\n",
      "Module {1008;7;7} was already solved. Skipping\n",
      "Module {1008;7;75} was already solved. Skipping\n",
      "Module {1008;7;53} was already solved. Skipping\n",
      "Module {1008;7;50} was already solved. Skipping\n",
      "Module {1008;7;79} was already solved. Skipping\n",
      "Module {1008;7;31} was already solved. Skipping\n",
      "Module {1008;7;85} was already solved. Skipping\n",
      "Module {1008;7;6} was already solved. Skipping\n",
      "Module {1008;7;57} was already solved. Skipping\n",
      "Module {1008;7;71} was already solved. Skipping\n",
      "Module {1008;7;70} was already solved. Skipping\n",
      "Module {1008;7;87} was already solved. Skipping\n",
      "Module {1008;7;1} was already solved. Skipping\n",
      "Module {1008;7;35} was already solved. Skipping\n",
      "Module {1008;7;34} was already solved. Skipping\n",
      "Module {1008;7;41} was already solved. Skipping\n",
      "Module {1008;7;73} was already solved. Skipping\n",
      "Module {1008;7;32} was already solved. Skipping\n",
      "Module {1008;7;48} was already solved. Skipping\n",
      "Module {1008;7;43} was already solved. Skipping\n",
      "Module {1008;7;91} was already solved. Skipping\n",
      "Module {1008;7;60} was already solved. Skipping\n",
      "Module {1008;8;0} was already solved. Skipping\n",
      "Module {1008;5;0} was already solved. Skipping\n",
      "Module {1008;5;1} was already solved. Skipping\n",
      "Module {1008;5;6} was already solved. Skipping\n",
      "Module {1008;5;5} was already solved. Skipping\n",
      "Module {1008;5;9} was already solved. Skipping\n",
      "Module {1008;5;8} was already solved. Skipping\n",
      "Module {1008;5;3} was already solved. Skipping\n",
      "Module {1008;5;7} was already solved. Skipping\n",
      "Module {1008;5;2} was already solved. Skipping\n",
      "Module {1008;5;4} was already solved. Skipping\n",
      "Module {1008;0;107} was already solved. Skipping\n",
      "Module {1008;0;52} was already solved. Skipping\n",
      "Module {1008;0;16} was already solved. Skipping\n",
      "Module {1008;0;57} was already solved. Skipping\n",
      "Module {1008;0;33} was already solved. Skipping\n",
      "Module {1008;0;15} was already solved. Skipping\n",
      "Module {1008;0;12} was already solved. Skipping\n",
      "Module {1008;0;101} was already solved. Skipping\n",
      "Module {1008;0;17} was already solved. Skipping\n",
      "Module {1008;0;58} was already solved. Skipping\n",
      "Module {1008;0;11} was already solved. Skipping\n",
      "Module {1008;0;87} was already solved. Skipping\n",
      "Module {1008;0;31} was already solved. Skipping\n",
      "Module {1008;0;95} was already solved. Skipping\n",
      "Module {1008;0;2} was already solved. Skipping\n",
      "Module {1008;0;19} was already solved. Skipping\n",
      "Module {1008;0;92} was already solved. Skipping\n",
      "Module {1008;0;3} was already solved. Skipping\n",
      "Module {1008;0;99} was already solved. Skipping\n",
      "Module {1008;0;77} was already solved. Skipping\n",
      "Module {1008;0;106} was already solved. Skipping\n",
      "Module {1008;0;112} was already solved. Skipping\n",
      "Module {1008;0;103} was already solved. Skipping\n",
      "Module {1008;0;104} was already solved. Skipping\n",
      "Module {1008;0;14} was already solved. Skipping\n",
      "Module {1008;0;94} was already solved. Skipping\n",
      "Module {1008;0;59} was already solved. Skipping\n",
      "Module {1008;0;26} was already solved. Skipping\n",
      "Module {1008;0;69} was already solved. Skipping\n",
      "Module {1008;0;0} was already solved. Skipping\n",
      "Module {1008;0;68} was already solved. Skipping\n",
      "Module {1008;0;35} was already solved. Skipping\n",
      "Module {1008;0;111} was already solved. Skipping\n",
      "Module {1008;0;117} was already solved. Skipping\n",
      "Module {1008;0;47} was already solved. Skipping\n",
      "Module {1008;0;23} was already solved. Skipping\n",
      "Module {1008;0;81} was already solved. Skipping\n",
      "Module {1008;0;82} was already solved. Skipping\n",
      "Module {1008;0;96} was already solved. Skipping\n",
      "Module {1008;0;53} was already solved. Skipping\n",
      "Module {1008;0;28} was already solved. Skipping\n",
      "Module {1008;0;9} was already solved. Skipping\n",
      "Module {1008;0;100} was already solved. Skipping\n",
      "Module {1008;0;102} was already solved. Skipping\n",
      "Module {1008;0;84} was already solved. Skipping\n",
      "Module {1008;0;86} was already solved. Skipping\n",
      "Module {1008;0;62} was already solved. Skipping\n",
      "Module {1008;0;49} was already solved. Skipping\n",
      "Module {1008;0;22} was already solved. Skipping\n",
      "Module {1008;0;80} was already solved. Skipping\n",
      "Module {1008;0;55} was already solved. Skipping\n",
      "Module {1008;0;20} was already solved. Skipping\n",
      "Module {1008;0;36} was already solved. Skipping\n",
      "Module {1008;0;38} was already solved. Skipping\n",
      "Module {1008;0;42} was already solved. Skipping\n",
      "Module {1008;0;30} was already solved. Skipping\n",
      "Module {1008;0;27} was already solved. Skipping\n",
      "Module {1008;0;113} was already solved. Skipping\n",
      "Module {1008;0;91} was already solved. Skipping\n",
      "Module {1008;0;110} was already solved. Skipping\n",
      "Module {1008;0;64} was already solved. Skipping\n",
      "Module {1008;0;48} was already solved. Skipping\n",
      "Module {1008;0;13} was already solved. Skipping\n",
      "Module {1008;0;37} was already solved. Skipping\n",
      "Module {1008;0;88} was already solved. Skipping\n",
      "Module {1008;0;93} was already solved. Skipping\n",
      "Module {1008;0;39} was already solved. Skipping\n",
      "Module {1008;0;50} was already solved. Skipping\n",
      "Module {1008;0;90} was already solved. Skipping\n",
      "Module {1008;0;70} was already solved. Skipping\n",
      "Module {1008;0;44} was already solved. Skipping\n",
      "Module {1008;0;34} was already solved. Skipping\n",
      "Module {1008;0;97} was already solved. Skipping\n",
      "Module {1008;0;21} was already solved. Skipping\n",
      "Module {1008;0;41} was already solved. Skipping\n",
      "Module {1008;0;79} was already solved. Skipping\n",
      "Module {1008;0;74} was already solved. Skipping\n",
      "Module {1008;0;45} was already solved. Skipping\n",
      "Module {1008;0;51} was already solved. Skipping\n",
      "Module {1008;0;72} was already solved. Skipping\n",
      "Module {1008;0;25} was already solved. Skipping\n",
      "Module {1008;0;65} was already solved. Skipping\n",
      "Module {1008;0;76} was already solved. Skipping\n",
      "Module {1008;0;5} was already solved. Skipping\n",
      "Module {1008;0;85} was already solved. Skipping\n",
      "Module {1008;0;63} was already solved. Skipping\n",
      "Module {1008;0;4} was already solved. Skipping\n",
      "Module {1008;0;75} was already solved. Skipping\n",
      "Module {1008;0;118} was already solved. Skipping\n",
      "Module {1008;0;89} was already solved. Skipping\n",
      "Module {1008;0;54} was already solved. Skipping\n",
      "Module {1008;0;105} was already solved. Skipping\n",
      "Module {1008;0;61} was already solved. Skipping\n",
      "Module {1008;0;114} was already solved. Skipping\n",
      "Module {1008;0;60} was already solved. Skipping\n",
      "Module {1008;0;71} was already solved. Skipping\n",
      "Module {1008;0;29} was already solved. Skipping\n",
      "Module {1008;0;10} was already solved. Skipping\n",
      "Module {1008;0;67} was already solved. Skipping\n",
      "Module {1008;0;109} was already solved. Skipping\n",
      "Module {1008;0;40} was already solved. Skipping\n",
      "Module {1008;0;83} was already solved. Skipping\n",
      "Module {1008;0;56} was already solved. Skipping\n",
      "Module {1008;0;8} was already solved. Skipping\n",
      "Module {1008;0;66} was already solved. Skipping\n",
      "Module {1008;0;78} was already solved. Skipping\n",
      "Module {1008;0;46} was already solved. Skipping\n",
      "Module {1008;0;98} was already solved. Skipping\n",
      "Module {1008;0;43} was already solved. Skipping\n",
      "Module {1008;0;108} was already solved. Skipping\n",
      "Module {1008;0;6} was already solved. Skipping\n",
      "Module {1008;0;7} was already solved. Skipping\n",
      "Module {1008;0;115} was already solved. Skipping\n",
      "Module {1008;0;116} was already solved. Skipping\n",
      "Module {1008;0;1} was already solved. Skipping\n",
      "Module {1008;0;24} was already solved. Skipping\n",
      "Module {1008;0;18} was already solved. Skipping\n",
      "Module {1008;0;73} was already solved. Skipping\n",
      "Module {1008;0;32} was already solved. Skipping\n",
      "Module {1008;2;0} was already solved. Skipping\n",
      "Module {1008;2;2} was already solved. Skipping\n",
      "Module {1008;2;3} was already solved. Skipping\n",
      "Module {1008;2;4} was already solved. Skipping\n",
      "Module {1008;2;1} was already solved. Skipping\n",
      "Module {1008;1;2} was already solved. Skipping\n",
      "Module {1008;1;1} was already solved. Skipping\n",
      "Module {1008;1;0} was already solved. Skipping\n",
      "Module {1008;1;3} was already solved. Skipping\n",
      "Module {1008;1;4} was already solved. Skipping\n",
      "Module {1008;4;2} was already solved. Skipping\n",
      "Module {1008;4;1} was already solved. Skipping\n",
      "Module {1008;4;6} was already solved. Skipping\n",
      "Module {1008;4;5} was already solved. Skipping\n",
      "Module {1008;4;3} was already solved. Skipping\n",
      "Module {1008;4;0} was already solved. Skipping\n",
      "Module {1008;4;4} was already solved. Skipping\n",
      "Module {1008;11;10} was already solved. Skipping\n",
      "Module {1008;11;8} was already solved. Skipping\n",
      "Module {1008;11;5} was already solved. Skipping\n",
      "Module {1008;11;6} was already solved. Skipping\n",
      "Module {1008;11;0} was already solved. Skipping\n",
      "Module {1008;11;7} was already solved. Skipping\n",
      "Module {1008;11;2} was already solved. Skipping\n",
      "Module {1008;11;3} was already solved. Skipping\n",
      "Module {1008;11;9} was already solved. Skipping\n",
      "Module {1008;11;4} was already solved. Skipping\n",
      "Module {1008;11;1} was already solved. Skipping\n",
      "Saved results CSV to\n",
      "/Users/jmccarty/Data/221205_ipv_workbench/tutorials/cactus_tutorial/outputs/B1008/base/general/base_micro_inverter_building_level_results_hourly.csv.\n",
      "Saved results CSV to\n",
      "/Users/jmccarty/Data/221205_ipv_workbench/tutorials/cactus_tutorial/outputs/B1008/base/general/base_string_inverter_building_level_results_hourly.csv.\n",
      "Saved results CSV to\n",
      "/Users/jmccarty/Data/221205_ipv_workbench/tutorials/cactus_tutorial/outputs/B1008/base/general/base_central_inverter_building_level_results_hourly.csv.\n",
      "Starting module cell_point analysis workflow for surface 1008_10.\n",
      "Completed in 1.62 seconds.\n",
      "-----------------------\n",
      "Starting module cell_point analysis workflow for surface 1008_14.\n",
      "Completed in 23.83 seconds.\n",
      "-----------------------\n",
      "Starting module cell_point analysis workflow for surface 1008_12.\n",
      "Completed in 1.33 seconds.\n",
      "-----------------------\n",
      "Starting module cell_point analysis workflow for surface 1008_9.\n",
      "Completed in 1.8 seconds.\n",
      "-----------------------\n",
      "Starting module cell_point analysis workflow for surface 1008_6.\n",
      "Completed in 0.2 seconds.\n",
      "-----------------------\n",
      "Starting module cell_point analysis workflow for surface 1008_13.\n",
      "Completed in 0.89 seconds.\n",
      "-----------------------\n",
      "Starting module cell_point analysis workflow for surface 1008_3.\n",
      "Completed in 2.13 seconds.\n",
      "-----------------------\n",
      "Starting module cell_point analysis workflow for surface 1008_7.\n",
      "Completed in 17.2 seconds.\n",
      "-----------------------\n",
      "Starting module cell_point analysis workflow for surface 1008_8.\n",
      "Completed in 0.2 seconds.\n",
      "-----------------------\n",
      "Starting module cell_point analysis workflow for surface 1008_5.\n",
      "Completed in 1.8 seconds.\n",
      "-----------------------\n",
      "Starting module cell_point analysis workflow for surface 1008_0.\n",
      "Completed in 21.77 seconds.\n",
      "-----------------------\n",
      "Starting module cell_point analysis workflow for surface 1008_2.\n",
      "Completed in 0.93 seconds.\n",
      "-----------------------\n",
      "Starting module cell_point analysis workflow for surface 1008_1.\n",
      "Completed in 0.88 seconds.\n",
      "-----------------------\n",
      "Starting module cell_point analysis workflow for surface 1008_4.\n",
      "Completed in 1.32 seconds.\n",
      "-----------------------\n",
      "Starting module cell_point analysis workflow for surface 1008_11.\n",
      "Completed in 2.06 seconds.\n",
      "-----------------------\n",
      "Cumulating and saving results for host object.\n",
      "Completed in 102.67 seconds.\n",
      "Starting module center_point analysis workflow for surface 1008_10.\n",
      "{1008;10}\n",
      "Completed in 0.24 seconds.\n",
      "-----------------------\n",
      "Starting module center_point analysis workflow for surface 1008_14.\n",
      "{1008;14}\n",
      "Completed in 3.57 seconds.\n",
      "-----------------------\n",
      "Starting module center_point analysis workflow for surface 1008_12.\n",
      "{1008;12}\n",
      "Completed in 0.2 seconds.\n",
      "-----------------------\n",
      "Starting module center_point analysis workflow for surface 1008_9.\n",
      "{1008;9}\n",
      "Completed in 0.27 seconds.\n",
      "-----------------------\n",
      "Starting module center_point analysis workflow for surface 1008_6.\n",
      "{1008;6}\n",
      "Completed in 0.04 seconds.\n",
      "-----------------------\n",
      "Starting module center_point analysis workflow for surface 1008_13.\n",
      "{1008;13}\n",
      "Completed in 0.14 seconds.\n",
      "-----------------------\n",
      "Starting module center_point analysis workflow for surface 1008_3.\n",
      "{1008;3}\n",
      "Completed in 0.33 seconds.\n",
      "-----------------------\n",
      "Starting module center_point analysis workflow for surface 1008_7.\n",
      "{1008;7}\n",
      "Completed in 2.51 seconds.\n",
      "-----------------------\n",
      "Starting module center_point analysis workflow for surface 1008_8.\n",
      "{1008;8}\n",
      "Completed in 0.04 seconds.\n",
      "-----------------------\n",
      "Starting module center_point analysis workflow for surface 1008_5.\n",
      "{1008;5}\n",
      "Completed in 0.32 seconds.\n",
      "-----------------------\n",
      "Starting module center_point analysis workflow for surface 1008_0.\n",
      "{1008;0}\n",
      "Completed in 3.1 seconds.\n",
      "-----------------------\n",
      "Starting module center_point analysis workflow for surface 1008_2.\n",
      "{1008;2}\n",
      "Completed in 0.15 seconds.\n",
      "-----------------------\n",
      "Starting module center_point analysis workflow for surface 1008_1.\n",
      "{1008;1}\n",
      "Completed in 0.14 seconds.\n",
      "-----------------------\n",
      "Starting module center_point analysis workflow for surface 1008_4.\n",
      "{1008;4}\n",
      "Completed in 0.2 seconds.\n",
      "-----------------------\n",
      "Starting module center_point analysis workflow for surface 1008_11.\n",
      "{1008;11}\n",
      "Completed in 0.3 seconds.\n",
      "-----------------------\n",
      "Cumulating and saving results for host object.\n",
      "Completed in 100.61 seconds.\n"
     ]
    }
   ],
   "source": [
    "workflows.run_irradiance(building, overwrite=False)\n",
    "workflows.comprehensive_surface_analysis(building)"
   ]
  }
 ],
 "metadata": {
  "kernelspec": {
   "display_name": "workbench311",
   "language": "python",
   "name": "python3"
  },
  "language_info": {
   "codemirror_mode": {
    "name": "ipython",
    "version": 3
   },
   "file_extension": ".py",
   "mimetype": "text/x-python",
   "name": "python",
   "nbconvert_exporter": "python",
   "pygments_lexer": "ipython3",
   "version": "3.11.6"
  }
 },
 "nbformat": 4,
 "nbformat_minor": 2
}
