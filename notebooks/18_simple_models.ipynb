{
 "cells": [
  {
   "cell_type": "code",
   "execution_count": 1,
   "metadata": {},
   "outputs": [],
   "source": [
    "%load_ext autoreload\n",
    "%autoreload 2"
   ]
  },
  {
   "cell_type": "code",
   "execution_count": 56,
   "metadata": {},
   "outputs": [],
   "source": [
    "import sys\n",
    "import subprocess\n",
    "import os\n",
    "import pandas as np\n",
    "import numpy as np\n",
    "import pathlib\n",
    "import re\n",
    "import glob\n",
    "import pandas as pd\n",
    "\n",
    "module_path = \"/Users/jmccarty/Data/221205_ipv_workbench/github/IPV_Workbench\"\n",
    "sys.path.insert(0, module_path)\n",
    "from workbench.utilities import general, config_utils, temporal, io\n",
    "from workbench.manage import manage\n",
    "from workbench.host import host, results_writers\n",
    "from workbench.workflows import workflows"
   ]
  },
  {
   "cell_type": "code",
   "execution_count": 3,
   "metadata": {},
   "outputs": [
    {
     "name": "stdout",
     "output_type": "stream",
     "text": [
      "Destination file already exists, copy aborted./n/Users/jmccarty/Desktop/test_project/test1/inputs/shared/tmy/base.epw\n",
      "Destination file already exists, copy aborted./n/Users/jmccarty/Desktop/test_project/test1/inputs/hosts/B1000/base/geometry/0_workbench_geometry_template.3dm\n",
      "Destination file already exists, copy aborted./n/Users/jmccarty/Desktop/test_project/test1/inputs/hosts/B1000/base/geometry/0_workbench_geometry_template.gh\n",
      "The project is initialized. We have created a base host object named 'B1000'.\n",
      "You will need to either move or create the geometry and panelizer files into the appropriate directories.\n",
      "The geometry files should follow the convention defined in the output of the template grasshopper and rhino files.\n",
      "The panelizer files are those that have been created using the grasshopper utility. The Panelizer is\n",
      "not ready for a pure python implementation as of yet.\n"
     ]
    }
   ],
   "source": [
    "par_dir = \"/Users/jmccarty/Desktop/test_project\"\n",
    "project_name = 'test1'\n",
    "base_epw = \"/Users/jmccarty/Desktop/CHE_ZH_Zurich.AP.066700_TMYx.2007-2021.epw\"\n",
    "device_id = 'D0013'\n",
    "\n",
    "config_file = manage.initiate_project(par_dir, project_name, base_epw, device_id)\n",
    "my_proj = manage.Project(config_file)\n",
    "my_proj.project_setup()"
   ]
  },
  {
   "cell_type": "code",
   "execution_count": 45,
   "metadata": {},
   "outputs": [],
   "source": [
    "my_host = host.Host(my_proj)"
   ]
  },
  {
   "cell_type": "code",
   "execution_count": 12,
   "metadata": {},
   "outputs": [
    {
     "data": {
      "text/plain": [
       "{'device_name': 'mini-monocrystalline',\n",
       " 'cell': 'monocrystalline',\n",
       " 'orientation': 'portrait',\n",
       " 'cec_database_key': 'Sharp_NU_U235F2',\n",
       " 'Wp': 25,\n",
       " 'gamma_ref': -0.00485,\n",
       " 'cell_width': 150.0,\n",
       " 'cell_height': 150.0,\n",
       " 'cell_col_spacing': 2.5,\n",
       " 'cell_row_spacing': 2.5,\n",
       " 'n_cols_ideal': 2,\n",
       " 'n_rows_ideal': 3,\n",
       " 'n_cols': 2,\n",
       " 'n_rows': 3,\n",
       " 'n_submodule': 1,\n",
       " 'frame_size': 15,\n",
       " 'module_width': 332.5,\n",
       " 'module_height': 485.0,\n",
       " 'N_s_ideal': 6,\n",
       " 'N_p_ideal': 1,\n",
       " 'N_s': 6,\n",
       " 'N_p': 1,\n",
       " 'total_cells': 6,\n",
       " 'Nsubcell_col': 1,\n",
       " 'Nsubcell_row': 1,\n",
       " 'cell_area': 0.135,\n",
       " 'Wp_m2_cell': 185.1851852,\n",
       " 'module_area': 0.1612625,\n",
       " 'Wp_m2_module': 155.0267421,\n",
       " 'cell_effective_area': 0.837144407,\n",
       " 'min_cell_module': 6.0,\n",
       " 'breakdown_factor': 0.002,\n",
       " 'breakdown_exp': 3.28,\n",
       " 'breakdown_voltage': -5.5,\n",
       " 'diode_threshold': -0.5,\n",
       " 'minimum_irradiance_cell': 5}"
      ]
     },
     "execution_count": 12,
     "metadata": {},
     "output_type": "execute_result"
    }
   ],
   "source": [
    "surface = my_host.get_surfaces()[0]\n",
    "\n",
    "surface_details = my_host.get_dict_instance([surface])['Details']\n",
    "\n",
    "pd.read_csv(my_host.project.module_cell_data, index_col='device_id').loc[surface_details['device_id']].to_dict()\n"
   ]
  },
  {
   "cell_type": "code",
   "execution_count": 48,
   "metadata": {},
   "outputs": [],
   "source": [
    "my_host.solve_module_cell_pts(surface)"
   ]
  },
  {
   "cell_type": "code",
   "execution_count": 101,
   "metadata": {},
   "outputs": [
    {
     "name": "stdout",
     "output_type": "stream",
     "text": [
      "{1000;1} 44  :  303218.7279551194\n",
      "{1000;8} 44  :  207330.0216122253\n",
      "{1000;3} 44  :  278228.27475609793\n",
      "{1000;11} 44  :  70249.25617941783\n",
      "{1000;13} 44  :  1323212.3323369785\n",
      "{1000;2} 44  :  254663.69008473132\n"
     ]
    },
    {
     "ename": "KeyboardInterrupt",
     "evalue": "",
     "output_type": "error",
     "traceback": [
      "\u001b[0;31m---------------------------------------------------------------------------\u001b[0m",
      "\u001b[0;31mKeyboardInterrupt\u001b[0m                         Traceback (most recent call last)",
      "Cell \u001b[0;32mIn[101], line 2\u001b[0m\n\u001b[1;32m      1\u001b[0m \u001b[39mfor\u001b[39;00m srf \u001b[39min\u001b[39;00m my_host\u001b[39m.\u001b[39mget_surfaces():\n\u001b[0;32m----> 2\u001b[0m     power \u001b[39m=\u001b[39m my_host\u001b[39m.\u001b[39;49msum_simple_module_results(srf, \u001b[39m'\u001b[39;49m\u001b[39mcenter_point\u001b[39;49m\u001b[39m'\u001b[39;49m)[\u001b[39m'\u001b[39m\u001b[39mpmp\u001b[39m\u001b[39m'\u001b[39m]\n\u001b[1;32m      3\u001b[0m     srf_c \u001b[39m=\u001b[39m general\u001b[39m.\u001b[39mclean_grasshopper_key(srf)\n\u001b[1;32m      4\u001b[0m     \u001b[39m# n_sensors  = len(pd.read_feather(f\"/Users/jmccarty/Desktop/test_project/test1/outputs/B1000/base/irradiance/surface_{srf_c}/diffuse.feather\").columns)\u001b[39;00m\n",
      "File \u001b[0;32m~/Data/221205_ipv_workbench/github/IPV_Workbench/workbench/host/host.py:288\u001b[0m, in \u001b[0;36mHost.sum_simple_module_results\u001b[0;34m(self, surface, simple_topology)\u001b[0m\n\u001b[1;32m    283\u001b[0m \u001b[39mfor\u001b[39;00m module \u001b[39min\u001b[39;00m \u001b[39mself\u001b[39m\u001b[39m.\u001b[39mget_modules(surface):\n\u001b[1;32m    284\u001b[0m     module_results_pmp\u001b[39m.\u001b[39mappend(\n\u001b[1;32m    285\u001b[0m         \u001b[39mself\u001b[39m\u001b[39m.\u001b[39mget_tabular_results([surface, module], simple_topology, rename_cols\u001b[39m=\u001b[39m\u001b[39mFalse\u001b[39;00m)[\n\u001b[1;32m    286\u001b[0m             \u001b[39m'\u001b[39m\u001b[39mpmp\u001b[39m\u001b[39m'\u001b[39m])\n\u001b[1;32m    287\u001b[0m     module_results_irrad\u001b[39m.\u001b[39mappend(\n\u001b[0;32m--> 288\u001b[0m         \u001b[39mself\u001b[39;49m\u001b[39m.\u001b[39;49mget_tabular_results([surface, module], simple_topology, rename_cols\u001b[39m=\u001b[39;49m\u001b[39mFalse\u001b[39;49;00m)[\n\u001b[1;32m    289\u001b[0m             \u001b[39m'\u001b[39m\u001b[39mirrad\u001b[39m\u001b[39m'\u001b[39m])\n\u001b[1;32m    290\u001b[0m     area_results\u001b[39m.\u001b[39mappend(\n\u001b[1;32m    291\u001b[0m         \u001b[39mself\u001b[39m\u001b[39m.\u001b[39mget_tabular_results([surface, module], simple_topology, rename_cols\u001b[39m=\u001b[39m\u001b[39mFalse\u001b[39;00m)[\n\u001b[1;32m    292\u001b[0m             \u001b[39m'\u001b[39m\u001b[39marea\u001b[39m\u001b[39m'\u001b[39m])\n\u001b[1;32m    293\u001b[0m pmp \u001b[39m=\u001b[39m pd\u001b[39m.\u001b[39mconcat(module_results_pmp, axis\u001b[39m=\u001b[39m\u001b[39m1\u001b[39m)\u001b[39m.\u001b[39msum(axis\u001b[39m=\u001b[39m\u001b[39m1\u001b[39m)\u001b[39m.\u001b[39mrename(\u001b[39m'\u001b[39m\u001b[39mpmp\u001b[39m\u001b[39m'\u001b[39m)\n",
      "File \u001b[0;32m~/Data/221205_ipv_workbench/github/IPV_Workbench/workbench/host/host.py:712\u001b[0m, in \u001b[0;36mHost.get_tabular_results\u001b[0;34m(self, search_list, topology, analysis_period, rename_cols)\u001b[0m\n\u001b[1;32m    710\u001b[0m hoy_index \u001b[39m=\u001b[39m pd\u001b[39m.\u001b[39mSeries(np\u001b[39m.\u001b[39marange(\u001b[39m0\u001b[39m, \u001b[39m8760\u001b[39m, \u001b[39m1\u001b[39m), name\u001b[39m=\u001b[39m\u001b[39m'\u001b[39m\u001b[39mHOY\u001b[39m\u001b[39m'\u001b[39m)\n\u001b[1;32m    711\u001b[0m result_df \u001b[39m=\u001b[39m pd\u001b[39m.\u001b[39mconcat([hoy_index, result_series], axis\u001b[39m=\u001b[39m\u001b[39m1\u001b[39m)\n\u001b[0;32m--> 712\u001b[0m result \u001b[39m=\u001b[39m result_df[\u001b[39m0\u001b[39;49m]\u001b[39m.\u001b[39;49mrename(key)\n\u001b[1;32m    714\u001b[0m \u001b[39mif\u001b[39;00m \u001b[39mlen\u001b[39m(result) \u001b[39m==\u001b[39m \u001b[39m0\u001b[39m:\n\u001b[1;32m    715\u001b[0m     \u001b[39mpass\u001b[39;00m\n",
      "File \u001b[0;32m/opt/homebrew/Caskroom/miniforge/base/envs/workbench/lib/python3.10/site-packages/pandas/core/series.py:5005\u001b[0m, in \u001b[0;36mSeries.rename\u001b[0;34m(self, index, axis, copy, inplace, level, errors)\u001b[0m\n\u001b[1;32m   4997\u001b[0m     \u001b[39mreturn\u001b[39;00m \u001b[39msuper\u001b[39m()\u001b[39m.\u001b[39m_rename(\n\u001b[1;32m   4998\u001b[0m         index,  \u001b[39m# type: ignore[arg-type]\u001b[39;00m\n\u001b[1;32m   4999\u001b[0m         copy\u001b[39m=\u001b[39mcopy,\n\u001b[0;32m   (...)\u001b[0m\n\u001b[1;32m   5002\u001b[0m         errors\u001b[39m=\u001b[39merrors,\n\u001b[1;32m   5003\u001b[0m     )\n\u001b[1;32m   5004\u001b[0m \u001b[39melse\u001b[39;00m:\n\u001b[0;32m-> 5005\u001b[0m     \u001b[39mreturn\u001b[39;00m \u001b[39mself\u001b[39;49m\u001b[39m.\u001b[39;49m_set_name(index, inplace\u001b[39m=\u001b[39;49minplace)\n",
      "File \u001b[0;32m/opt/homebrew/Caskroom/miniforge/base/envs/workbench/lib/python3.10/site-packages/pandas/core/series.py:1959\u001b[0m, in \u001b[0;36mSeries._set_name\u001b[0;34m(self, name, inplace)\u001b[0m\n\u001b[1;32m   1949\u001b[0m \u001b[39m\u001b[39m\u001b[39m\"\"\"\u001b[39;00m\n\u001b[1;32m   1950\u001b[0m \u001b[39mSet the Series name.\u001b[39;00m\n\u001b[1;32m   1951\u001b[0m \n\u001b[0;32m   (...)\u001b[0m\n\u001b[1;32m   1956\u001b[0m \u001b[39m    Whether to modify `self` directly or return a copy.\u001b[39;00m\n\u001b[1;32m   1957\u001b[0m \u001b[39m\"\"\"\u001b[39;00m\n\u001b[1;32m   1958\u001b[0m inplace \u001b[39m=\u001b[39m validate_bool_kwarg(inplace, \u001b[39m\"\u001b[39m\u001b[39minplace\u001b[39m\u001b[39m\"\u001b[39m)\n\u001b[0;32m-> 1959\u001b[0m ser \u001b[39m=\u001b[39m \u001b[39mself\u001b[39m \u001b[39mif\u001b[39;00m inplace \u001b[39melse\u001b[39;00m \u001b[39mself\u001b[39;49m\u001b[39m.\u001b[39;49mcopy()\n\u001b[1;32m   1960\u001b[0m ser\u001b[39m.\u001b[39mname \u001b[39m=\u001b[39m name\n\u001b[1;32m   1961\u001b[0m \u001b[39mreturn\u001b[39;00m ser\n",
      "File \u001b[0;32m/opt/homebrew/Caskroom/miniforge/base/envs/workbench/lib/python3.10/site-packages/pandas/core/generic.py:6370\u001b[0m, in \u001b[0;36mNDFrame.copy\u001b[0;34m(self, deep)\u001b[0m\n\u001b[1;32m   6368\u001b[0m data \u001b[39m=\u001b[39m \u001b[39mself\u001b[39m\u001b[39m.\u001b[39m_mgr\u001b[39m.\u001b[39mcopy(deep\u001b[39m=\u001b[39mdeep)\n\u001b[1;32m   6369\u001b[0m \u001b[39mself\u001b[39m\u001b[39m.\u001b[39m_clear_item_cache()\n\u001b[0;32m-> 6370\u001b[0m \u001b[39mreturn\u001b[39;00m \u001b[39mself\u001b[39;49m\u001b[39m.\u001b[39;49m_constructor(data)\u001b[39m.\u001b[39m__finalize__(\u001b[39mself\u001b[39m, method\u001b[39m=\u001b[39m\u001b[39m\"\u001b[39m\u001b[39mcopy\u001b[39m\u001b[39m\"\u001b[39m)\n",
      "File \u001b[0;32m/opt/homebrew/Caskroom/miniforge/base/envs/workbench/lib/python3.10/site-packages/pandas/core/series.py:364\u001b[0m, in \u001b[0;36mSeries.__init__\u001b[0;34m(self, data, index, dtype, name, copy, fastpath)\u001b[0m\n\u001b[1;32m    362\u001b[0m         \u001b[39mobject\u001b[39m\u001b[39m.\u001b[39m\u001b[39m__setattr__\u001b[39m(\u001b[39mself\u001b[39m, \u001b[39m\"\u001b[39m\u001b[39m_name\u001b[39m\u001b[39m\"\u001b[39m, name)\n\u001b[1;32m    363\u001b[0m     \u001b[39melse\u001b[39;00m:\n\u001b[0;32m--> 364\u001b[0m         \u001b[39mself\u001b[39;49m\u001b[39m.\u001b[39;49mname \u001b[39m=\u001b[39m name\n\u001b[1;32m    365\u001b[0m     \u001b[39mreturn\u001b[39;00m\n\u001b[1;32m    367\u001b[0m \u001b[39m# we are called internally, so short-circuit\u001b[39;00m\n",
      "File \u001b[0;32m/opt/homebrew/Caskroom/miniforge/base/envs/workbench/lib/python3.10/site-packages/pandas/core/generic.py:5924\u001b[0m, in \u001b[0;36mNDFrame.__setattr__\u001b[0;34m(self, name, value)\u001b[0m\n\u001b[1;32m   5922\u001b[0m     \u001b[39mobject\u001b[39m\u001b[39m.\u001b[39m\u001b[39m__setattr__\u001b[39m(\u001b[39mself\u001b[39m, name, value)\n\u001b[1;32m   5923\u001b[0m \u001b[39melif\u001b[39;00m name \u001b[39min\u001b[39;00m \u001b[39mself\u001b[39m\u001b[39m.\u001b[39m_metadata:\n\u001b[0;32m-> 5924\u001b[0m     \u001b[39mobject\u001b[39;49m\u001b[39m.\u001b[39;49m\u001b[39m__setattr__\u001b[39;49m(\u001b[39mself\u001b[39;49m, name, value)\n\u001b[1;32m   5925\u001b[0m \u001b[39melse\u001b[39;00m:\n\u001b[1;32m   5926\u001b[0m     \u001b[39mtry\u001b[39;00m:\n",
      "File \u001b[0;32m/opt/homebrew/Caskroom/miniforge/base/envs/workbench/lib/python3.10/site-packages/pandas/core/series.py:664\u001b[0m, in \u001b[0;36mSeries.name\u001b[0;34m(self, value)\u001b[0m\n\u001b[1;32m    661\u001b[0m \u001b[39m@name\u001b[39m\u001b[39m.\u001b[39msetter\n\u001b[1;32m    662\u001b[0m \u001b[39mdef\u001b[39;00m \u001b[39mname\u001b[39m(\u001b[39mself\u001b[39m, value: Hashable) \u001b[39m-\u001b[39m\u001b[39m>\u001b[39m \u001b[39mNone\u001b[39;00m:\n\u001b[1;32m    663\u001b[0m     validate_all_hashable(value, error_name\u001b[39m=\u001b[39m\u001b[39mf\u001b[39m\u001b[39m\"\u001b[39m\u001b[39m{\u001b[39;00m\u001b[39mtype\u001b[39m(\u001b[39mself\u001b[39m)\u001b[39m.\u001b[39m\u001b[39m__name__\u001b[39m\u001b[39m}\u001b[39;00m\u001b[39m.name\u001b[39m\u001b[39m\"\u001b[39m)\n\u001b[0;32m--> 664\u001b[0m     \u001b[39mobject\u001b[39;49m\u001b[39m.\u001b[39;49m\u001b[39m__setattr__\u001b[39;49m(\u001b[39mself\u001b[39;49m, \u001b[39m\"\u001b[39;49m\u001b[39m_name\u001b[39;49m\u001b[39m\"\u001b[39;49m, value)\n",
      "\u001b[0;31mKeyboardInterrupt\u001b[0m: "
     ]
    }
   ],
   "source": [
    "for srf in my_host.get_surfaces():\n",
    "    power = my_host.sum_simple_module_results(srf, 'center_point')['pmp']\n",
    "    srf_c = general.clean_grasshopper_key(srf)\n",
    "    # n_sensors  = len(pd.read_feather(f\"/Users/jmccarty/Desktop/test_project/test1/outputs/B1000/base/irradiance/surface_{srf_c}/diffuse.feather\").columns)\n",
    "    print(srf,n_sensors,\" : \", power.sum())"
   ]
  },
  {
   "cell_type": "code",
   "execution_count": 88,
   "metadata": {},
   "outputs": [
    {
     "data": {
      "text/plain": [
       "{'central_inverter': {'eff': {},\n",
       "  'vmp': {},\n",
       "  'area': {},\n",
       "  'pmp': {},\n",
       "  'irrad': {},\n",
       "  'imp': {}},\n",
       " 'cell_point': {'area': {}, 'pmp': {}, 'irrad': {}},\n",
       " 'initial_simulation': {'eff': {},\n",
       "  'vmp': {},\n",
       "  'area': {},\n",
       "  'pmp': {},\n",
       "  'irrad': {},\n",
       "  'imp': {}},\n",
       " 'string_inverter': {'eff': {},\n",
       "  'vmp': {},\n",
       "  'area': {},\n",
       "  'pmp': {},\n",
       "  'irrad': {},\n",
       "  'imp': {}},\n",
       " 'micro_inverter': {'eff': {},\n",
       "  'vmp': {},\n",
       "  'area': {},\n",
       "  'pmp': {},\n",
       "  'irrad': {},\n",
       "  'imp': {}},\n",
       " 'center_point': {'area': {}, 'pmp': {}, 'irrad': {}}}"
      ]
     },
     "execution_count": 88,
     "metadata": {},
     "output_type": "execute_result"
    }
   ],
   "source": [
    "srf = my_host.get_surfaces()[2]\n",
    "my_host.get_dict_instance([srf,my_host.get_modules(srf)[0]])['Yield']"
   ]
  },
  {
   "cell_type": "code",
   "execution_count": 113,
   "metadata": {},
   "outputs": [
    {
     "name": "stdout",
     "output_type": "stream",
     "text": [
      "Starting module center point analysis workflow for surface 1000_1.\n",
      "Completed in 2.95 seconds.\n",
      "-----------------------\n",
      "Starting module center point analysis workflow for surface 1000_8.\n",
      "Completed in 2.58 seconds.\n",
      "-----------------------\n",
      "Starting module center point analysis workflow for surface 1000_3.\n",
      "Completed in 3.1 seconds.\n",
      "-----------------------\n",
      "Starting module center point analysis workflow for surface 1000_11.\n",
      "Completed in 1.02 seconds.\n",
      "-----------------------\n",
      "Starting module center point analysis workflow for surface 1000_13.\n",
      "Completed in 41.67 seconds.\n",
      "-----------------------\n",
      "Starting module center point analysis workflow for surface 1000_2.\n",
      "Completed in 2.46 seconds.\n",
      "-----------------------\n",
      "Starting module center point analysis workflow for surface 1000_7.\n",
      "Completed in 2.66 seconds.\n",
      "-----------------------\n",
      "Starting module center point analysis workflow for surface 1000_4.\n",
      "Completed in 4.0 seconds.\n",
      "-----------------------\n",
      "Starting module center point analysis workflow for surface 1000_5.\n",
      "Completed in 1.01 seconds.\n",
      "-----------------------\n",
      "Starting module center point analysis workflow for surface 1000_10.\n",
      "Completed in 3.99 seconds.\n",
      "-----------------------\n",
      "Starting module center point analysis workflow for surface 1000_0.\n",
      "Completed in 0.94 seconds.\n",
      "-----------------------\n",
      "Starting module center point analysis workflow for surface 1000_9.\n",
      "Completed in 2.99 seconds.\n",
      "-----------------------\n",
      "Starting module center point analysis workflow for surface 1000_14.\n",
      "Completed in 37.36 seconds.\n",
      "-----------------------\n",
      "Starting module center point analysis workflow for surface 1000_12.\n",
      "Completed in 27.63 seconds.\n",
      "-----------------------\n",
      "Starting module center point analysis workflow for surface 1000_6.\n",
      "Completed in 0.83 seconds.\n",
      "-----------------------\n",
      "Cumulating and saving results for host object.\n",
      "File containing electricity loads not found. Results that require this input will not be calculated\n",
      "Completed in 115.24 seconds.\n"
     ]
    }
   ],
   "source": [
    "workflows.run_module_point(my_host, 'cell_point')"
   ]
  },
  {
   "cell_type": "code",
   "execution_count": 109,
   "metadata": {},
   "outputs": [],
   "source": [
    "df = my_host.sum_simple_module_results('{1000;8}', 'center_point')"
   ]
  },
  {
   "cell_type": "code",
   "execution_count": 108,
   "metadata": {},
   "outputs": [
    {
     "data": {
      "text/plain": [
       "<AxesSubplot:>"
      ]
     },
     "execution_count": 108,
     "metadata": {},
     "output_type": "execute_result"
    },
    {
     "data": {
      "image/png": "[encoded data removed]",
      "text/plain": [
       "<Figure size 400x400 with 1 Axes>"
      ]
     },
     "metadata": {
      "image/png": {
       "height": 400,
       "width": 400
      }
     },
     "output_type": "display_data"
    }
   ],
   "source": [
    "df['area'].plot()"
   ]
  }
 ],
 "metadata": {
  "kernelspec": {
   "display_name": "workbench",
   "language": "python",
   "name": "python3"
  },
  "language_info": {
   "codemirror_mode": {
    "name": "ipython",
    "version": 3
   },
   "file_extension": ".py",
   "mimetype": "text/x-python",
   "name": "python",
   "nbconvert_exporter": "python",
   "pygments_lexer": "ipython3",
   "version": "3.10.8"
  },
  "orig_nbformat": 4,
  "vscode": {
   "interpreter": {
    "hash": "0c4ac59e349d62c65843c6e7b303fbe6191f8771b8af55365501989d28e04afb"
   }
  }
 },
 "nbformat": 4,
 "nbformat_minor": 2
}
